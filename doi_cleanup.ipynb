{
 "cells": [
  {
   "cell_type": "code",
   "execution_count": null,
   "metadata": {},
   "outputs": [],
   "source": [
    "import pandas as pd\n",
    "import numpy as np\n",
    "import regex as re"
   ]
  },
  {
   "cell_type": "code",
   "execution_count": null,
   "metadata": {},
   "outputs": [],
   "source": [
    "#read\n",
    "df = pd.read_csv('data_formatted.csv', sep=',').set_index('title')\n",
    "#doi regex\n",
    "doi_pattern = r\"10.\\d{4,9}/[-._;()/:A-Z0-9]+$\"\n",
    "doi_re = re.compile(doi_pattern, re.I)"
   ]
  },
  {
   "cell_type": "code",
   "execution_count": null,
   "metadata": {},
   "outputs": [],
   "source": [
    "# how many enteris in doi are empty?\n",
    "len(df.loc[df['DOI'].isnull()])"
   ]
  },
  {
   "cell_type": "code",
   "execution_count": null,
   "metadata": {},
   "outputs": [],
   "source": [
    "# how many have doi?\n",
    "len(df.loc[df['DOI'].isnull() == False])"
   ]
  },
  {
   "cell_type": "code",
   "execution_count": null,
   "metadata": {},
   "outputs": [],
   "source": [
    "# a function to turn each doi into a complete link\n",
    "def format_doi(value):\n",
    "    doi_re = re.compile(r\"^10.\\d{4,9}/[-._;()/:A-Z0-9]+$\", re.I)\n",
    "    if type(value) is str:\n",
    "        if 'doi.org' not in value and doi_re.match(value):\n",
    "            return f\"https://doi.org/{value}\"\n",
    "        else:\n",
    "            return value\n",
    "    else:\n",
    "        return value"
   ]
  },
  {
   "cell_type": "code",
   "execution_count": null,
   "metadata": {},
   "outputs": [],
   "source": [
    "# format all DOIs into links\n",
    "df['DOI'] = df['DOI'].apply(format_doi)"
   ]
  },
  {
   "cell_type": "code",
   "execution_count": null,
   "metadata": {},
   "outputs": [],
   "source": [
    "# a function to check if the value is actually a doi\n",
    "def check_if_doi(value):\n",
    "    if type(value) is str:\n",
    "        doi_re = re.compile(r\"10.\\d{4,9}/[-._;()/:A-Z0-9]+$\", re.I)\n",
    "        return doi_re.search(value) is None\n",
    "    return False"
   ]
  },
  {
   "cell_type": "code",
   "execution_count": null,
   "metadata": {},
   "outputs": [],
   "source": [
    "# wrong values in the DOI\n",
    "len(df.loc[df['DOI'].apply(check_if_doi)])"
   ]
  },
  {
   "cell_type": "code",
   "execution_count": null,
   "metadata": {},
   "outputs": [],
   "source": [
    "# a function to remove the value if not a valid DOI\n",
    "def remove_invalid_doi(value):\n",
    "    if type(value) is str:\n",
    "        doi_re = re.compile(r\"10.\\d{4,9}/[-._;()/:A-Z0-9]+$\", re.I)\n",
    "        if doi_re.search(value) is None:\n",
    "            return np.NaN\n",
    "        else:\n",
    "            return value\n",
    "    else:\n",
    "        return value"
   ]
  },
  {
   "cell_type": "code",
   "execution_count": null,
   "metadata": {},
   "outputs": [],
   "source": [
    "# reset invalid dois to NaN\n",
    "df['DOI'] = df['DOI'].apply(remove_invalid_doi)"
   ]
  },
  {
   "cell_type": "code",
   "execution_count": null,
   "metadata": {},
   "outputs": [],
   "source": [
    "# save the file\n",
    "df.to_csv('data_formatted.csv', encoding=\"utf8\")"
   ]
  }
 ],
 "metadata": {
  "hide_input": false,
  "kernelspec": {
   "display_name": "Python 3",
   "language": "python",
   "name": "python3"
  },
  "language_info": {
   "codemirror_mode": {
    "name": "ipython",
    "version": 3
   },
   "file_extension": ".py",
   "mimetype": "text/x-python",
   "name": "python",
   "nbconvert_exporter": "python",
   "pygments_lexer": "ipython3",
   "version": "3.6.4"
  }
 },
 "nbformat": 4,
 "nbformat_minor": 2
}
