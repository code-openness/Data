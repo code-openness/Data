{
 "cells": [
  {
   "cell_type": "code",
   "execution_count": null,
   "metadata": {},
   "outputs": [],
   "source": [
    "import pandas as pd\n",
    "import numpy as np\n",
    "import re"
   ]
  },
  {
   "cell_type": "code",
   "execution_count": null,
   "metadata": {},
   "outputs": [],
   "source": [
    "cd /home/hannah/Desktop/Informatik/Coding Openness Softwareprojekt\n"
   ]
  },
  {
   "cell_type": "code",
   "execution_count": null,
   "metadata": {},
   "outputs": [],
   "source": [
    "df = pd.read_csv('pik_edoc_20190404.csv', sep=',')\n",
    "    #replace all \\\\N with NaN (pandas like it this way)\n",
    "df.replace('\\\\n', np.NaN)"
   ]
  },
  {
   "cell_type": "code",
   "execution_count": null,
   "metadata": {},
   "outputs": [],
   "source": [
    "#get a list of all authors\\n\",\n",
    "year = []\n",
    "for _, row in df.iterrows():\n",
    "    _id = row['id']\n",
    "    # authors are separated by a semicolon\\n\",\n",
    "    names = str(row['year']).split(' ')\n",
    "    for name in names:\n",
    "        year.append([_id, name.strip()])\n",
    "year = pd.DataFrame(year, columns=['id', 'name'])\n",
    "    "
   ]
  },
  {
   "cell_type": "code",
   "execution_count": null,
   "metadata": {},
   "outputs": [],
   "source": [
    "authors[~authors['name'].str.contains('[^üéöíøóäñÜÖßáÄ¢Š‐\\w\\'\\’\\-\\s.,]', regex=True, flags= re.I].to_csv(\"authors\", sep='\\t', encoding='utf-8')"
   ]
  },
  {
   "cell_type": "code",
   "execution_count": null,
   "metadata": {},
   "outputs": [],
   "source": [
    "authors=['id','authors']"
   ]
  },
  {
   "cell_type": "code",
   "execution_count": null,
   "metadata": {},
   "outputs": [],
   "source": [
    "editors[~editors['name'].str.contains('[^üéöíøóäñÜÖßáÄ¢Š‐\\w\\'\\’\\-\\s.,]', regex=True, flags= re.I)].to_csv(\"editors\", sep='\\t', encoding='utf-8')\n"
   ]
  },
  {
   "cell_type": "code",
   "execution_count": null,
   "metadata": {},
   "outputs": [],
   "source": [
    "#editors = editors.replace('\\\\N', np.NaN)"
   ]
  },
  {
   "cell_type": "code",
   "execution_count": null,
   "metadata": {},
   "outputs": [],
   "source": [
    "[~editors['name'].str.contains('[^üéöíøóäñÜÖßáÄ¢Š‐\\w\\'\\’\\-\\s.,]', regex=True, flags= re.I)].to_csv(\"editors\", sep='\\t', encoding='utf-8')"
   ]
  },
  {
   "cell_type": "code",
   "execution_count": null,
   "metadata": {},
   "outputs": [],
   "source": [
    "year = df['year'].dropna()\n",
    "year = year[year.str.contains('[A-Z]', regex=True, flags= re.I)]#.to_csv(\"year\", sep='\\t', encoding='utf-8')\n",
    "year.unique()"
   ]
  }
 ],
 "metadata": {
  "kernelspec": {
   "display_name": "Python 3",
   "language": "python",
   "name": "python3"
  },
  "language_info": {
   "codemirror_mode": {
    "name": "ipython",
    "version": 3
   },
   "file_extension": ".py",
   "mimetype": "text/x-python",
   "name": "python",
   "nbconvert_exporter": "python",
   "pygments_lexer": "ipython3",
   "version": "3.7.3"
  }
 },
 "nbformat": 4,
 "nbformat_minor": 2
}
