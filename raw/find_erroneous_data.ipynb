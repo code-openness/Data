{
 "cells": [
  {
   "cell_type": "code",
   "execution_count": null,
   "metadata": {},
   "outputs": [],
   "source": [
    "import pandas as pd\n",
    "import numpy as np\n",
    "import re\n",
    "import sys\n",
    "\n",
    "# np.set_printoptions(threshold=sys.maxsize)"
   ]
  },
  {
   "cell_type": "code",
   "execution_count": null,
   "metadata": {},
   "outputs": [],
   "source": [
    "inputFile = 'data_formatted.csv'\n",
    "outputFile = 'data_formatted_2.csv'"
   ]
  },
  {
   "cell_type": "code",
   "execution_count": null,
   "metadata": {},
   "outputs": [],
   "source": [
    "# read\n",
    "df = pd.read_csv(inputFile, sep=',')"
   ]
  },
  {
   "cell_type": "code",
   "execution_count": null,
   "metadata": {},
   "outputs": [],
   "source": [
    "#shortens name: Lastname, F.S.\n",
    "def shortenNames(columnName):\n",
    "    column = df[columnName] \n",
    "    newValues = []\n",
    "    wrong = []\n",
    "\n",
    "    for x, string in column.iteritems():\n",
    "        #checkes whether value is nan\n",
    "        if (not string) or string != string:\n",
    "            newValues.append(np.nan)\n",
    "            continue\n",
    "        end = []\n",
    "            \n",
    "        names = [name.strip() for name in string.split(';')]\n",
    "        for i, name in enumerate(names):\n",
    "            ns = name.split(', ')\n",
    "            #ns has to have two parts: lastname, firstname\n",
    "            if len(ns) == 1:\n",
    "                wrong.append([x, i])\n",
    "                end.append(name)\n",
    "                continue\n",
    "            firstname = ns[1].strip()\n",
    "            lastname = ns[0].replace(',', '').strip()\n",
    "           \n",
    "            #checkes whether the value alreaddy has short parts\n",
    "            if (re.search('.\\.', firstname)):\n",
    "                newFN = firstname.replace('-', '').strip()\n",
    "                firstnames = newFN.split(' ')\n",
    "                    \n",
    "                fn = ''\n",
    "                for piece in firstnames:\n",
    "                    if piece == '':\n",
    "                        continue\n",
    "                    if (re.search('.\\.', piece)):\n",
    "                        fn += piece\n",
    "                    else:\n",
    "                        #first letter of name\n",
    "                        fn += piece[0] + '.'\n",
    "                end.append(lastname + ', ' + fn)\n",
    "            else:\n",
    "                newFN = firstname.replace('-', ' ') #.replace(' ', '')\n",
    "                firstnames = newFN.split(' ')\n",
    "                fn = ''\n",
    "                for piece in firstnames:\n",
    "                    if piece == '':\n",
    "                        continue\n",
    "                    if len(piece) == 1:\n",
    "                        fn += piece + '.'\n",
    "                    else:\n",
    "                        #first letter of name\n",
    "                        fn += piece[0] + '.'\n",
    "                end.append(lastname + ', ' + fn)\n",
    "        newValues.append(';'.join(end))\n",
    "    return pd.Series(newValues), wrong"
   ]
  },
  {
   "cell_type": "code",
   "execution_count": null,
   "metadata": {
    "scrolled": true
   },
   "outputs": [],
   "source": [
    "%%time\n",
    "authors, wrong = shortenNames('authors')\n",
    "df['authors'] = authors"
   ]
  },
  {
   "cell_type": "code",
   "execution_count": null,
   "metadata": {},
   "outputs": [],
   "source": [
    "df['authors'] "
   ]
  },
  {
   "cell_type": "code",
   "execution_count": null,
   "metadata": {},
   "outputs": [],
   "source": [
    "shortenNames('editors')"
   ]
  },
  {
   "cell_type": "code",
   "execution_count": null,
   "metadata": {},
   "outputs": [],
   "source": [
    "def split(columnName, seperator, newName = None, dropNaN=True):\n",
    "    if newName == None:\n",
    "        newName = columnName\n",
    "    newFrame = []\n",
    "    for _, row in df.iterrows():\n",
    "        _id = row['id']\n",
    "        item = str(row[columnName])\n",
    "        if dropNaN and item == \"nan\":\n",
    "            continue\n",
    "        pieces = item.split(seperator)\n",
    "        for piece in pieces:\n",
    "            newFrame.append([_id, piece.strip()])\n",
    "    return pd.DataFrame(newFrame, columns=['id', newName])"
   ]
  },
  {
   "cell_type": "code",
   "execution_count": null,
   "metadata": {},
   "outputs": [],
   "source": [
    "illegalCharsRegex = '[^üéöíøóäñÜÖßáÄ¢Šç’´‐\\w\\'\\-\\s.,]'\n",
    "def findIllegalNames(data, column, regex):\n",
    "    copy = data[column].dropna()\n",
    "    return copy[copy.str.contains(regex, regex=True, flags= re.I)]"
   ]
  },
  {
   "cell_type": "code",
   "execution_count": null,
   "metadata": {
    "scrolled": false
   },
   "outputs": [],
   "source": [
    "authors = split('authors', ';', 'name')\n",
    "findIllegalNames(authors, 'name', illegalCharsRegex)"
   ]
  },
  {
   "cell_type": "code",
   "execution_count": null,
   "metadata": {},
   "outputs": [],
   "source": [
    "editors = split('editors', ';', 'name')\n",
    "findIllegalNames(editors, 'name', illegalCharsRegex)"
   ]
  },
  {
   "cell_type": "code",
   "execution_count": null,
   "metadata": {},
   "outputs": [],
   "source": [
    "oldDepartmentNames = split('oldDepartmentNames', ',', 'name')\n",
    "oldDepartmentNames['name'].unique()"
   ]
  },
  {
   "cell_type": "code",
   "execution_count": null,
   "metadata": {},
   "outputs": [],
   "source": [
    "df['type'].unique()"
   ]
  },
  {
   "cell_type": "code",
   "execution_count": null,
   "metadata": {
    "scrolled": true
   },
   "outputs": [],
   "source": [
    "df['publisher'].dropna().unique()"
   ]
  },
  {
   "cell_type": "code",
   "execution_count": null,
   "metadata": {},
   "outputs": [],
   "source": [
    "df['journal'].dropna().unique()"
   ]
  },
  {
   "cell_type": "code",
   "execution_count": null,
   "metadata": {
    "scrolled": true
   },
   "outputs": [],
   "source": [
    "findIllegalNames(df, 'startpage', '[^0-9]').unique()"
   ]
  },
  {
   "cell_type": "code",
   "execution_count": null,
   "metadata": {
    "scrolled": true
   },
   "outputs": [],
   "source": [
    "findIllegalNames(df, 'endpage', '[^0-9]').unique()"
   ]
  },
  {
   "cell_type": "code",
   "execution_count": null,
   "metadata": {},
   "outputs": [],
   "source": [
    "df['issue'].dropna().unique()\n",
    "# findIllegalNames(df, 'issue', '[^0-9]').unique()"
   ]
  },
  {
   "cell_type": "code",
   "execution_count": null,
   "metadata": {
    "scrolled": true
   },
   "outputs": [],
   "source": [
    "df['vol'].dropna().unique()"
   ]
  },
  {
   "cell_type": "code",
   "execution_count": null,
   "metadata": {
    "scrolled": true
   },
   "outputs": [],
   "source": [
    "df['year'].dropna().unique()"
   ]
  },
  {
   "cell_type": "code",
   "execution_count": null,
   "metadata": {
    "scrolled": true
   },
   "outputs": [],
   "source": [
    "findIllegalNames(df, 'place', illegalCharsRegex)"
   ]
  },
  {
   "cell_type": "code",
   "execution_count": null,
   "metadata": {
    "scrolled": true
   },
   "outputs": [],
   "source": [
    "df['link'].dropna().unique()\n",
    "\n",
    "# findIllegalNames(df, 'issue', '^$http.*').unique()"
   ]
  },
  {
   "cell_type": "code",
   "execution_count": null,
   "metadata": {
    "scrolled": true
   },
   "outputs": [],
   "source": [
    "df['comment'].dropna().unique()"
   ]
  },
  {
   "cell_type": "code",
   "execution_count": null,
   "metadata": {
    "scrolled": true
   },
   "outputs": [],
   "source": [
    "df['keywordsAndPeerReview'].dropna().unique()"
   ]
  },
  {
   "cell_type": "code",
   "execution_count": null,
   "metadata": {
    "scrolled": false
   },
   "outputs": [],
   "source": [
    "df['DOI'].dropna().unique()"
   ]
  },
  {
   "cell_type": "code",
   "execution_count": null,
   "metadata": {
    "scrolled": true
   },
   "outputs": [],
   "source": [
    "df.loc[df['journal'].dropna().index]['type'].unique()"
   ]
  },
  {
   "cell_type": "raw",
   "metadata": {},
   "source": [
    "df['booktitle'].dropna().unique()"
   ]
  },
  {
   "cell_type": "code",
   "execution_count": null,
   "metadata": {
    "scrolled": true
   },
   "outputs": [],
   "source": [
    "# booktitle appears not only in 'inbook' but also in other types of publication\n",
    "df.loc[df['booktitle'].dropna().index]['type'].unique()"
   ]
  },
  {
   "cell_type": "code",
   "execution_count": null,
   "metadata": {},
   "outputs": [],
   "source": [
    "# df[~df['relation (= Serie)'].isnull()]\n",
    "df['Serie'].dropna().unique().shape"
   ]
  },
  {
   "cell_type": "code",
   "execution_count": null,
   "metadata": {
    "scrolled": true
   },
   "outputs": [],
   "source": [
    "df[~df['Serie'].isnull()]['type'].unique()"
   ]
  },
  {
   "cell_type": "code",
   "execution_count": null,
   "metadata": {
    "scrolled": true
   },
   "outputs": [],
   "source": [
    "df['conference'].dropna().unique().shape"
   ]
  },
  {
   "cell_type": "code",
   "execution_count": null,
   "metadata": {
    "scrolled": false
   },
   "outputs": [],
   "source": [
    "df.loc[df['conference'].dropna().index]['type'].unique()"
   ]
  },
  {
   "cell_type": "code",
   "execution_count": null,
   "metadata": {
    "scrolled": false
   },
   "outputs": [],
   "source": [
    "df.loc[df['DOI'].dropna().index]['type'].unique()"
   ]
  },
  {
   "cell_type": "code",
   "execution_count": null,
   "metadata": {
    "scrolled": false
   },
   "outputs": [],
   "source": [
    "df.loc[df['startpage'].dropna().index]['type'].unique()"
   ]
  },
  {
   "cell_type": "code",
   "execution_count": null,
   "metadata": {},
   "outputs": [],
   "source": [
    "df.to_csv(outputFile, encoding=\"utf8\")"
   ]
  },
  {
   "cell_type": "code",
   "execution_count": null,
   "metadata": {},
   "outputs": [],
   "source": []
  }
 ],
 "metadata": {
  "kernelspec": {
   "display_name": "Python 3",
   "language": "python",
   "name": "python3"
  },
  "language_info": {
   "codemirror_mode": {
    "name": "ipython",
    "version": 3
   },
   "file_extension": ".py",
   "mimetype": "text/x-python",
   "name": "python",
   "nbconvert_exporter": "python",
   "pygments_lexer": "ipython3",
   "version": "3.7.3"
  }
 },
 "nbformat": 4,
 "nbformat_minor": 2
}
