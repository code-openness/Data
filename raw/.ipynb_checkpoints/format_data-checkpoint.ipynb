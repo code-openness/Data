{
 "cells": [
  {
   "cell_type": "code",
   "execution_count": 1,
   "metadata": {},
   "outputs": [],
   "source": [
    "\"\"\"\n",
    "this scripts fixes the encoding of some non-UTF characters that are saved with the\n",
    "Numeric character reference (for example: ç was saved as &#231;)\n",
    "Thankfully, the html library can unescape these characters for so we can write the\n",
    "text back as UTF\n",
    "\"\"\"\n",
    "from html import unescape\n",
    "from io import StringIO\n",
    "import pandas as pd\n",
    "import numpy as np"
   ]
  },
  {
   "cell_type": "code",
   "execution_count": 2,
   "metadata": {},
   "outputs": [],
   "source": [
    "inputFile = 'data.csv'\n",
    "outputFile = 'data_formatted.csv'"
   ]
  },
  {
   "cell_type": "code",
   "execution_count": 4,
   "metadata": {},
   "outputs": [
    {
     "name": "stdout",
     "output_type": "stream",
     "text": [
      "data.csv loaded\n"
     ]
    }
   ],
   "source": [
    "data = None\n",
    "with open(inputFile, 'r', encoding='UTF-8') as file:\n",
    "    data = file.read()\n",
    "    print(inputFile + ' loaded')"
   ]
  },
  {
   "cell_type": "code",
   "execution_count": 5,
   "metadata": {},
   "outputs": [
    {
     "name": "stdout",
     "output_type": "stream",
     "text": [
      "unescaped\n"
     ]
    }
   ],
   "source": [
    "# unescape to fix the encoding of some chars\n",
    "data = StringIO(unescape(data))\n",
    "print('unescaped')"
   ]
  },
  {
   "cell_type": "code",
   "execution_count": 6,
   "metadata": {},
   "outputs": [],
   "source": [
    "#read string as csv file\n",
    "df = pd.read_csv(data, encoding=\"utf8\", sep=',')"
   ]
  },
  {
   "cell_type": "code",
   "execution_count": 7,
   "metadata": {},
   "outputs": [],
   "source": [
    "#remove last column, its empty\n",
    "df.drop(df.columns[len(df.columns)-1], axis=1, inplace=True)"
   ]
  },
  {
   "cell_type": "code",
   "execution_count": 8,
   "metadata": {},
   "outputs": [],
   "source": [
    "#replace all \\N with NaN (pandas like it this way)\n",
    "df.replace(\"\\\\N\", np.nan, inplace=True)"
   ]
  },
  {
   "cell_type": "code",
   "execution_count": 9,
   "metadata": {},
   "outputs": [],
   "source": [
    "#some authors names have a : at the end, remove that\n",
    "def RemoveColon(string):\n",
    "    return string.replace(':', '')"
   ]
  },
  {
   "cell_type": "code",
   "execution_count": 10,
   "metadata": {},
   "outputs": [],
   "source": [
    "df['authors'] = df['authors'].astype(str).apply(RemoveColon)\n",
    "df['editors'] = df['editors'].astype(str).apply(RemoveColon)"
   ]
  },
  {
   "cell_type": "code",
   "execution_count": 11,
   "metadata": {},
   "outputs": [
    {
     "data": {
      "text/plain": [
       "'\\nas per Email from PIK:\\nDas was unter \"keywords\" steht sind die\\nalten Abteilungsnamen, die bis vor der Evaluation des Instituts in den 2000ern Bestand\\nhatten. Danach wurden neue Domainnamen gebildet - die ab diesem Zeitpunkt im Feld x9\\nhinterlegt sind. Tats?chliche Keywords liegen also, wenn vorhanden, in Feld \"x1\". \\n\\nhowever, the field x9 does not exist in the data we received\\n'"
      ]
     },
     "execution_count": 11,
     "metadata": {},
     "output_type": "execute_result"
    }
   ],
   "source": [
    "\"\"\"\n",
    "as per Email from PIK:\n",
    "Das was unter \"keywords\" steht sind die\n",
    "alten Abteilungsnamen, die bis vor der Evaluation des Instituts in den 2000ern Bestand\n",
    "hatten. Danach wurden neue Domainnamen gebildet - die ab diesem Zeitpunkt im Feld x9\n",
    "hinterlegt sind. Tats?chliche Keywords liegen also, wenn vorhanden, in Feld \"x1\". \n",
    "\n",
    "however, the field x9 does not exist in the data we received\n",
    "\"\"\""
   ]
  },
  {
   "cell_type": "code",
   "execution_count": 12,
   "metadata": {},
   "outputs": [],
   "source": [
    "df.rename(columns={\n",
    "'keywords': 'oldDepartmentNames',\n",
    "'x1 ( =Feld \"Keyword\";  u.a. belegt mit Info zu peer-review, wenn kein ISI-Journal)':'keywordsAndPeerReview',\n",
    "'x4 ( = DOI / Identifier)':'DOI',\n",
    "'relation (= Serie)': 'Serie'\n",
    "}, inplace=True)"
   ]
  },
  {
   "cell_type": "code",
   "execution_count": 13,
   "metadata": {},
   "outputs": [
    {
     "name": "stdout",
     "output_type": "stream",
     "text": [
      "formatted\n"
     ]
    }
   ],
   "source": [
    "print(\"formatted\")\n",
    "df.to_csv(outputFile, encoding=\"utf8\")"
   ]
  },
  {
   "cell_type": "code",
   "execution_count": 14,
   "metadata": {},
   "outputs": [
    {
     "name": "stdout",
     "output_type": "stream",
     "text": [
      "data_formatted.csv saved\n"
     ]
    }
   ],
   "source": [
    "print(outputFile, \"saved\")"
   ]
  },
  {
   "cell_type": "code",
   "execution_count": null,
   "metadata": {},
   "outputs": [],
   "source": []
  }
 ],
 "metadata": {
  "kernelspec": {
   "display_name": "Python 3",
   "language": "python",
   "name": "python3"
  },
  "language_info": {
   "codemirror_mode": {
    "name": "ipython",
    "version": 3
   },
   "file_extension": ".py",
   "mimetype": "text/x-python",
   "name": "python",
   "nbconvert_exporter": "python",
   "pygments_lexer": "ipython3",
   "version": "3.7.2"
  }
 },
 "nbformat": 4,
 "nbformat_minor": 2
}
